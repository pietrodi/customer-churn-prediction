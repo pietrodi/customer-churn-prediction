{
  "nbformat": 4,
  "nbformat_minor": 0,
  "metadata": {
    "colab": {
      "provenance": [],
      "collapsed_sections": [],
      "authorship_tag": "ABX9TyPLJ5zJ7S6b3mDj2Yg4EDV7",
      "include_colab_link": true
    },
    "kernelspec": {
      "name": "python3",
      "display_name": "Python 3"
    },
    "language_info": {
      "name": "python"
    }
  },
  "cells": [
    {
      "cell_type": "markdown",
      "metadata": {
        "id": "view-in-github",
        "colab_type": "text"
      },
      "source": [
        "<a href=\"https://colab.research.google.com/github/pietrodi/customer-churn-prediction/blob/main/notebooks/customer_churn_prediction.ipynb\" target=\"_parent\"><img src=\"https://colab.research.google.com/assets/colab-badge.svg\" alt=\"Open In Colab\"/></a>"
      ]
    },
    {
      "cell_type": "markdown",
      "source": [
        "# **Introduction**"
      ],
      "metadata": {
        "id": "uR3KKXg6-6jr"
      }
    },
    {
      "cell_type": "markdown",
      "source": [
        "As stated on [Wikipedia](https://en.wikipedia.org/wiki/Customer_attrition):\n",
        "> Customer attrition, also known as customer churn [...] is the loss of clients or customers.\n",
        ">\n",
        "> Banks, telephone service companies, Internet service providers, pay TV companies, insurance firms, and alarm monitoring services, often use customer attrition analysis and customer attrition rates as one of their key business metrics (along with cash flow, EBITDA, etc.) because the cost of retaining an existing customer is far less than acquiring a new one. Companies from these sectors often have customer service branches which attempt to win back defecting clients, because recovered long-term customers can be worth much more to a company than newly recruited clients.\n",
        ">\n",
        "> [...] \n",
        ">\n",
        "> Current organizations face therefore a huge challenge: to be able to anticipate to customers’ abandon in order to retain them on time, reducing this way costs and risks and gaining efficiency and competitivity.\n",
        "\n",
        "Therefore, the objective of this notebook is to develop a machine learning model for a classification problem: predicting for a bank whether a customer will churn or not."
      ],
      "metadata": {
        "id": "neQdlQ-Pw_C2"
      }
    },
    {
      "cell_type": "markdown",
      "source": [
        "**Required Libraries**"
      ],
      "metadata": {
        "id": "Q7iH-jAjCezW"
      }
    },
    {
      "cell_type": "code",
      "source": [
        "import numpy as np\n",
        "import pandas as pd\n",
        "import matplotlib.pyplot as plt\n",
        "%matplotlib inline\n",
        "import seaborn as sns\n",
        "import time\n",
        "\n",
        "from sklearn.model_selection import train_test_split, GridSearchCV, StratifiedKFold\n",
        "from sklearn.metrics import roc_auc_score\n",
        "from sklearn.preprocessing import StandardScaler, OneHotEncoder\n",
        "from sklearn.pipeline import Pipeline\n",
        "from sklearn.compose import ColumnTransformer\n",
        "from sklearn.model_selection import cross_validate\n",
        "\n",
        "from sklearn.linear_model import LogisticRegression\n",
        "from sklearn.tree import DecisionTreeClassifier\n",
        "from sklearn.ensemble import RandomForestClassifier\n",
        "from xgboost import XGBClassifier\n",
        "from lightgbm import LGBMClassifier\n",
        "\n",
        "from imblearn.under_sampling import RandomUnderSampler\n",
        "from imblearn.pipeline import make_pipeline\n",
        "\n",
        "import warnings\n",
        "warnings.filterwarnings('ignore')"
      ],
      "metadata": {
        "id": "XXhLngE3Fe9t"
      },
      "execution_count": 34,
      "outputs": []
    },
    {
      "cell_type": "markdown",
      "source": [
        "# **The Dataset**"
      ],
      "metadata": {
        "id": "fwZ8LoQ4WxUq"
      }
    },
    {
      "cell_type": "markdown",
      "source": [
        "The modelling and training will be done on a dataset containing information about current and past customers of said bank and if they exited or not."
      ],
      "metadata": {
        "id": "Q27JVjxMyqOm"
      }
    },
    {
      "cell_type": "markdown",
      "source": [
        "**Getting the data**"
      ],
      "metadata": {
        "id": "xMc7uwssCkix"
      }
    },
    {
      "cell_type": "code",
      "source": [
        "!wget https://raw.githubusercontent.com/pietrodi/customer-churn-prediction/main/data/customer-data.csv"
      ],
      "metadata": {
        "colab": {
          "base_uri": "https://localhost:8080/"
        },
        "id": "VKBK0CDvCnjw",
        "outputId": "4ea1437d-afa7-48bd-b88c-8683ee176174"
      },
      "execution_count": 35,
      "outputs": [
        {
          "output_type": "stream",
          "name": "stdout",
          "text": [
            "--2022-10-15 15:58:23--  https://raw.githubusercontent.com/pietrodi/customer-churn-prediction/main/data/customer-data.csv\n",
            "Resolving raw.githubusercontent.com (raw.githubusercontent.com)... 185.199.108.133, 185.199.109.133, 185.199.110.133, ...\n",
            "Connecting to raw.githubusercontent.com (raw.githubusercontent.com)|185.199.108.133|:443... connected.\n",
            "HTTP request sent, awaiting response... 200 OK\n",
            "Length: 674857 (659K) [text/plain]\n",
            "Saving to: ‘customer-data.csv.1’\n",
            "\n",
            "customer-data.csv.1 100%[===================>] 659.04K  --.-KB/s    in 0.03s   \n",
            "\n",
            "2022-10-15 15:58:23 (18.8 MB/s) - ‘customer-data.csv.1’ saved [674857/674857]\n",
            "\n"
          ]
        }
      ]
    },
    {
      "cell_type": "markdown",
      "source": [
        "**Loading the data**"
      ],
      "metadata": {
        "id": "vVyWjKkL9Iuk"
      }
    },
    {
      "cell_type": "code",
      "source": [
        "df = pd.read_csv('customer-data.csv')"
      ],
      "metadata": {
        "id": "tDJ1ofwT9fMc"
      },
      "execution_count": 36,
      "outputs": []
    },
    {
      "cell_type": "markdown",
      "source": [
        "**First look at the data**"
      ],
      "metadata": {
        "id": "bpYEaKSqCVK9"
      }
    },
    {
      "cell_type": "markdown",
      "source": [
        "Below is a preview of the first 5 rows of the dataset:"
      ],
      "metadata": {
        "id": "gOFbFPFVPsrW"
      }
    },
    {
      "cell_type": "code",
      "source": [
        "df.head(5)"
      ],
      "metadata": {
        "colab": {
          "base_uri": "https://localhost:8080/",
          "height": 270
        },
        "id": "GpsYkxoKPwUP",
        "outputId": "9442b763-2142-4db2-da10-e43fa0838fb2"
      },
      "execution_count": 37,
      "outputs": [
        {
          "output_type": "execute_result",
          "data": {
            "text/plain": [
              "   RowNumber  CustomerId   Surname  CreditScore Geography  Gender  Age  \\\n",
              "0          1    15634602  Hargrave          619    France  Female   42   \n",
              "1          2    15647311      Hill          608     Spain  Female   41   \n",
              "2          3    15619304      Onio          502    France  Female   42   \n",
              "3          4    15701354      Boni          699    France  Female   39   \n",
              "4          5    15737888  Mitchell          850     Spain  Female   43   \n",
              "\n",
              "   Tenure    Balance  NumOfProducts  HasCrCard  IsActiveMember  \\\n",
              "0       2       0.00              1          1               1   \n",
              "1       1   83807.86              1          0               1   \n",
              "2       8  159660.80              3          1               0   \n",
              "3       1       0.00              2          0               0   \n",
              "4       2  125510.82              1          1               1   \n",
              "\n",
              "   EstimatedSalary  Exited  \n",
              "0        101348.88       1  \n",
              "1        112542.58       0  \n",
              "2        113931.57       1  \n",
              "3         93826.63       0  \n",
              "4         79084.10       0  "
            ],
            "text/html": [
              "\n",
              "  <div id=\"df-f823d888-0065-4d8b-a463-cf06d439584e\">\n",
              "    <div class=\"colab-df-container\">\n",
              "      <div>\n",
              "<style scoped>\n",
              "    .dataframe tbody tr th:only-of-type {\n",
              "        vertical-align: middle;\n",
              "    }\n",
              "\n",
              "    .dataframe tbody tr th {\n",
              "        vertical-align: top;\n",
              "    }\n",
              "\n",
              "    .dataframe thead th {\n",
              "        text-align: right;\n",
              "    }\n",
              "</style>\n",
              "<table border=\"1\" class=\"dataframe\">\n",
              "  <thead>\n",
              "    <tr style=\"text-align: right;\">\n",
              "      <th></th>\n",
              "      <th>RowNumber</th>\n",
              "      <th>CustomerId</th>\n",
              "      <th>Surname</th>\n",
              "      <th>CreditScore</th>\n",
              "      <th>Geography</th>\n",
              "      <th>Gender</th>\n",
              "      <th>Age</th>\n",
              "      <th>Tenure</th>\n",
              "      <th>Balance</th>\n",
              "      <th>NumOfProducts</th>\n",
              "      <th>HasCrCard</th>\n",
              "      <th>IsActiveMember</th>\n",
              "      <th>EstimatedSalary</th>\n",
              "      <th>Exited</th>\n",
              "    </tr>\n",
              "  </thead>\n",
              "  <tbody>\n",
              "    <tr>\n",
              "      <th>0</th>\n",
              "      <td>1</td>\n",
              "      <td>15634602</td>\n",
              "      <td>Hargrave</td>\n",
              "      <td>619</td>\n",
              "      <td>France</td>\n",
              "      <td>Female</td>\n",
              "      <td>42</td>\n",
              "      <td>2</td>\n",
              "      <td>0.00</td>\n",
              "      <td>1</td>\n",
              "      <td>1</td>\n",
              "      <td>1</td>\n",
              "      <td>101348.88</td>\n",
              "      <td>1</td>\n",
              "    </tr>\n",
              "    <tr>\n",
              "      <th>1</th>\n",
              "      <td>2</td>\n",
              "      <td>15647311</td>\n",
              "      <td>Hill</td>\n",
              "      <td>608</td>\n",
              "      <td>Spain</td>\n",
              "      <td>Female</td>\n",
              "      <td>41</td>\n",
              "      <td>1</td>\n",
              "      <td>83807.86</td>\n",
              "      <td>1</td>\n",
              "      <td>0</td>\n",
              "      <td>1</td>\n",
              "      <td>112542.58</td>\n",
              "      <td>0</td>\n",
              "    </tr>\n",
              "    <tr>\n",
              "      <th>2</th>\n",
              "      <td>3</td>\n",
              "      <td>15619304</td>\n",
              "      <td>Onio</td>\n",
              "      <td>502</td>\n",
              "      <td>France</td>\n",
              "      <td>Female</td>\n",
              "      <td>42</td>\n",
              "      <td>8</td>\n",
              "      <td>159660.80</td>\n",
              "      <td>3</td>\n",
              "      <td>1</td>\n",
              "      <td>0</td>\n",
              "      <td>113931.57</td>\n",
              "      <td>1</td>\n",
              "    </tr>\n",
              "    <tr>\n",
              "      <th>3</th>\n",
              "      <td>4</td>\n",
              "      <td>15701354</td>\n",
              "      <td>Boni</td>\n",
              "      <td>699</td>\n",
              "      <td>France</td>\n",
              "      <td>Female</td>\n",
              "      <td>39</td>\n",
              "      <td>1</td>\n",
              "      <td>0.00</td>\n",
              "      <td>2</td>\n",
              "      <td>0</td>\n",
              "      <td>0</td>\n",
              "      <td>93826.63</td>\n",
              "      <td>0</td>\n",
              "    </tr>\n",
              "    <tr>\n",
              "      <th>4</th>\n",
              "      <td>5</td>\n",
              "      <td>15737888</td>\n",
              "      <td>Mitchell</td>\n",
              "      <td>850</td>\n",
              "      <td>Spain</td>\n",
              "      <td>Female</td>\n",
              "      <td>43</td>\n",
              "      <td>2</td>\n",
              "      <td>125510.82</td>\n",
              "      <td>1</td>\n",
              "      <td>1</td>\n",
              "      <td>1</td>\n",
              "      <td>79084.10</td>\n",
              "      <td>0</td>\n",
              "    </tr>\n",
              "  </tbody>\n",
              "</table>\n",
              "</div>\n",
              "      <button class=\"colab-df-convert\" onclick=\"convertToInteractive('df-f823d888-0065-4d8b-a463-cf06d439584e')\"\n",
              "              title=\"Convert this dataframe to an interactive table.\"\n",
              "              style=\"display:none;\">\n",
              "        \n",
              "  <svg xmlns=\"http://www.w3.org/2000/svg\" height=\"24px\"viewBox=\"0 0 24 24\"\n",
              "       width=\"24px\">\n",
              "    <path d=\"M0 0h24v24H0V0z\" fill=\"none\"/>\n",
              "    <path d=\"M18.56 5.44l.94 2.06.94-2.06 2.06-.94-2.06-.94-.94-2.06-.94 2.06-2.06.94zm-11 1L8.5 8.5l.94-2.06 2.06-.94-2.06-.94L8.5 2.5l-.94 2.06-2.06.94zm10 10l.94 2.06.94-2.06 2.06-.94-2.06-.94-.94-2.06-.94 2.06-2.06.94z\"/><path d=\"M17.41 7.96l-1.37-1.37c-.4-.4-.92-.59-1.43-.59-.52 0-1.04.2-1.43.59L10.3 9.45l-7.72 7.72c-.78.78-.78 2.05 0 2.83L4 21.41c.39.39.9.59 1.41.59.51 0 1.02-.2 1.41-.59l7.78-7.78 2.81-2.81c.8-.78.8-2.07 0-2.86zM5.41 20L4 18.59l7.72-7.72 1.47 1.35L5.41 20z\"/>\n",
              "  </svg>\n",
              "      </button>\n",
              "      \n",
              "  <style>\n",
              "    .colab-df-container {\n",
              "      display:flex;\n",
              "      flex-wrap:wrap;\n",
              "      gap: 12px;\n",
              "    }\n",
              "\n",
              "    .colab-df-convert {\n",
              "      background-color: #E8F0FE;\n",
              "      border: none;\n",
              "      border-radius: 50%;\n",
              "      cursor: pointer;\n",
              "      display: none;\n",
              "      fill: #1967D2;\n",
              "      height: 32px;\n",
              "      padding: 0 0 0 0;\n",
              "      width: 32px;\n",
              "    }\n",
              "\n",
              "    .colab-df-convert:hover {\n",
              "      background-color: #E2EBFA;\n",
              "      box-shadow: 0px 1px 2px rgba(60, 64, 67, 0.3), 0px 1px 3px 1px rgba(60, 64, 67, 0.15);\n",
              "      fill: #174EA6;\n",
              "    }\n",
              "\n",
              "    [theme=dark] .colab-df-convert {\n",
              "      background-color: #3B4455;\n",
              "      fill: #D2E3FC;\n",
              "    }\n",
              "\n",
              "    [theme=dark] .colab-df-convert:hover {\n",
              "      background-color: #434B5C;\n",
              "      box-shadow: 0px 1px 3px 1px rgba(0, 0, 0, 0.15);\n",
              "      filter: drop-shadow(0px 1px 2px rgba(0, 0, 0, 0.3));\n",
              "      fill: #FFFFFF;\n",
              "    }\n",
              "  </style>\n",
              "\n",
              "      <script>\n",
              "        const buttonEl =\n",
              "          document.querySelector('#df-f823d888-0065-4d8b-a463-cf06d439584e button.colab-df-convert');\n",
              "        buttonEl.style.display =\n",
              "          google.colab.kernel.accessAllowed ? 'block' : 'none';\n",
              "\n",
              "        async function convertToInteractive(key) {\n",
              "          const element = document.querySelector('#df-f823d888-0065-4d8b-a463-cf06d439584e');\n",
              "          const dataTable =\n",
              "            await google.colab.kernel.invokeFunction('convertToInteractive',\n",
              "                                                     [key], {});\n",
              "          if (!dataTable) return;\n",
              "\n",
              "          const docLinkHtml = 'Like what you see? Visit the ' +\n",
              "            '<a target=\"_blank\" href=https://colab.research.google.com/notebooks/data_table.ipynb>data table notebook</a>'\n",
              "            + ' to learn more about interactive tables.';\n",
              "          element.innerHTML = '';\n",
              "          dataTable['output_type'] = 'display_data';\n",
              "          await google.colab.output.renderOutput(dataTable, element);\n",
              "          const docLink = document.createElement('div');\n",
              "          docLink.innerHTML = docLinkHtml;\n",
              "          element.appendChild(docLink);\n",
              "        }\n",
              "      </script>\n",
              "    </div>\n",
              "  </div>\n",
              "  "
            ]
          },
          "metadata": {},
          "execution_count": 37
        }
      ]
    },
    {
      "cell_type": "code",
      "source": [
        "print('Number of rows in the dataset:', df.shape[0])\n",
        "print('Number of columns in the dataset:', df.shape[1])\n",
        "print('Number of values in the dataset:', df.count().sum())\n",
        "print('Number of missing values in the dataset: ', df.isna().sum().sum())\n",
        "print('Number of duplicate rows in the dataset:', df.duplicated().sum())"
      ],
      "metadata": {
        "colab": {
          "base_uri": "https://localhost:8080/"
        },
        "id": "0_xteXfpQlAa",
        "outputId": "4a1528f1-5e1e-44b9-88f9-d8446f3f5070"
      },
      "execution_count": 38,
      "outputs": [
        {
          "output_type": "stream",
          "name": "stdout",
          "text": [
            "Number of rows in the dataset: 10000\n",
            "Number of columns in the dataset: 14\n",
            "Number of values in the dataset: 140000\n",
            "Number of missing values in the dataset:  0\n",
            "Number of duplicate rows in the dataset: 0\n"
          ]
        }
      ]
    },
    {
      "cell_type": "markdown",
      "source": [
        "*Notes:*\n",
        "\n",
        "* The dataset has no missing values.\n",
        "* The dataset has no duplicates."
      ],
      "metadata": {
        "id": "RUg1S0QBRbNP"
      }
    },
    {
      "cell_type": "markdown",
      "source": [
        "**Quick look at the colums**"
      ],
      "metadata": {
        "id": "QjYm7TtiSFEo"
      }
    },
    {
      "cell_type": "markdown",
      "source": [
        "*Columns:*\n",
        "\n",
        "> * `RowNumber` - Unique Id for each row in the dataset.\n",
        ">\n",
        "> * `CustomerId` - Unique Id for bank customer identification.\n",
        ">\n",
        "> * `Surname` - The last name of the customer.\n",
        ">\n",
        "> * `CreditScore` - The credit score of the customer.\n",
        ">\n",
        "> * `Geography` - The country of the customer.\n",
        ">\n",
        "> * `Gender` - Whether the customer is male or female.\n",
        ">\n",
        "> * `Age` - The age of the customer.\n",
        ">\n",
        "> * `Tenure` - The number of years for which the customer has been with the bank.\n",
        ">\n",
        "> * `Balance` - The bank balance of the customer.\n",
        ">\n",
        "> * `NumOfProducts` - Number of bank products the customer is utilising.\n",
        ">\n",
        "> * `HasCrCard` - Whether the customer holds a credit card with the bank or not.\n",
        ">\n",
        "> * `IsActiveMember` - Whether the customer is an active member with the bank or not.\n",
        ">\n",
        "> * `EstimatedSalary` - The estimated salary of the customer in dollars.\n",
        ">\n",
        "> * `Exited` - Whether the customer closed account with bank or not. This is the target."
      ],
      "metadata": {
        "id": "zvCIA9oDI74f"
      }
    },
    {
      "cell_type": "code",
      "source": [
        "print(\"The type of each column: \")\n",
        "df.dtypes"
      ],
      "metadata": {
        "colab": {
          "base_uri": "https://localhost:8080/"
        },
        "id": "D5_ncei5RxhH",
        "outputId": "7e6460c0-970f-47b8-ddf0-944350b81157"
      },
      "execution_count": 39,
      "outputs": [
        {
          "output_type": "stream",
          "name": "stdout",
          "text": [
            "The type of each column: \n"
          ]
        },
        {
          "output_type": "execute_result",
          "data": {
            "text/plain": [
              "RowNumber            int64\n",
              "CustomerId           int64\n",
              "Surname             object\n",
              "CreditScore          int64\n",
              "Geography           object\n",
              "Gender              object\n",
              "Age                  int64\n",
              "Tenure               int64\n",
              "Balance            float64\n",
              "NumOfProducts        int64\n",
              "HasCrCard            int64\n",
              "IsActiveMember       int64\n",
              "EstimatedSalary    float64\n",
              "Exited               int64\n",
              "dtype: object"
            ]
          },
          "metadata": {},
          "execution_count": 39
        }
      ]
    },
    {
      "cell_type": "code",
      "source": [
        "print(\"The number of unique values of each column: \")\n",
        "df.nunique()"
      ],
      "metadata": {
        "colab": {
          "base_uri": "https://localhost:8080/"
        },
        "id": "ZtrjNQ1DRzkO",
        "outputId": "bc776696-b57f-48d3-fb26-e15c422b2ce3"
      },
      "execution_count": 40,
      "outputs": [
        {
          "output_type": "stream",
          "name": "stdout",
          "text": [
            "The number of unique values of each column: \n"
          ]
        },
        {
          "output_type": "execute_result",
          "data": {
            "text/plain": [
              "RowNumber          10000\n",
              "CustomerId         10000\n",
              "Surname             2932\n",
              "CreditScore          460\n",
              "Geography              3\n",
              "Gender                 2\n",
              "Age                   70\n",
              "Tenure                11\n",
              "Balance             6382\n",
              "NumOfProducts          4\n",
              "HasCrCard              2\n",
              "IsActiveMember         2\n",
              "EstimatedSalary     9999\n",
              "Exited                 2\n",
              "dtype: int64"
            ]
          },
          "metadata": {},
          "execution_count": 40
        }
      ]
    },
    {
      "cell_type": "markdown",
      "source": [
        "*Notes:*\n",
        "\n",
        "* There are 6 numerical columns, 4 categorical columns (excluding the target) and 3 qualitative columns.\n",
        "* Even if `NumOfProducts` and `Tenure` are numbers, the two columns seem more fit to be categorical based on their low cardinality."
      ],
      "metadata": {
        "id": "bLthIysSTdpq"
      }
    },
    {
      "cell_type": "code",
      "source": [
        "categorical = ['Geography', 'Gender', 'Tenure', 'NumOfProducts', 'HasCrCard', 'IsActiveMember']\n",
        "numerical = ['CreditScore', 'Age', 'Balance', 'EstimatedSalary']\n",
        "qualitative = ['RowNumber', 'CustomerId', 'Surname']"
      ],
      "metadata": {
        "id": "ZE7_Prn1VRZD"
      },
      "execution_count": 41,
      "outputs": []
    },
    {
      "cell_type": "markdown",
      "source": [
        "Below are some basic stats of the numerical colums of the dataset:"
      ],
      "metadata": {
        "id": "fb0DN-pHWAIA"
      }
    },
    {
      "cell_type": "code",
      "source": [
        "df[numerical].describe()"
      ],
      "metadata": {
        "colab": {
          "base_uri": "https://localhost:8080/",
          "height": 300
        },
        "id": "et2EI01mSovV",
        "outputId": "0191befc-a140-44a0-eb7d-e08c734cc268"
      },
      "execution_count": 42,
      "outputs": [
        {
          "output_type": "execute_result",
          "data": {
            "text/plain": [
              "        CreditScore           Age        Balance  EstimatedSalary\n",
              "count  10000.000000  10000.000000   10000.000000     10000.000000\n",
              "mean     650.528800     38.921800   76485.889288    100090.239881\n",
              "std       96.653299     10.487806   62397.405202     57510.492818\n",
              "min      350.000000     18.000000       0.000000        11.580000\n",
              "25%      584.000000     32.000000       0.000000     51002.110000\n",
              "50%      652.000000     37.000000   97198.540000    100193.915000\n",
              "75%      718.000000     44.000000  127644.240000    149388.247500\n",
              "max      850.000000     92.000000  250898.090000    199992.480000"
            ],
            "text/html": [
              "\n",
              "  <div id=\"df-c76af523-8279-43d5-ba0b-b8bb2251fea6\">\n",
              "    <div class=\"colab-df-container\">\n",
              "      <div>\n",
              "<style scoped>\n",
              "    .dataframe tbody tr th:only-of-type {\n",
              "        vertical-align: middle;\n",
              "    }\n",
              "\n",
              "    .dataframe tbody tr th {\n",
              "        vertical-align: top;\n",
              "    }\n",
              "\n",
              "    .dataframe thead th {\n",
              "        text-align: right;\n",
              "    }\n",
              "</style>\n",
              "<table border=\"1\" class=\"dataframe\">\n",
              "  <thead>\n",
              "    <tr style=\"text-align: right;\">\n",
              "      <th></th>\n",
              "      <th>CreditScore</th>\n",
              "      <th>Age</th>\n",
              "      <th>Balance</th>\n",
              "      <th>EstimatedSalary</th>\n",
              "    </tr>\n",
              "  </thead>\n",
              "  <tbody>\n",
              "    <tr>\n",
              "      <th>count</th>\n",
              "      <td>10000.000000</td>\n",
              "      <td>10000.000000</td>\n",
              "      <td>10000.000000</td>\n",
              "      <td>10000.000000</td>\n",
              "    </tr>\n",
              "    <tr>\n",
              "      <th>mean</th>\n",
              "      <td>650.528800</td>\n",
              "      <td>38.921800</td>\n",
              "      <td>76485.889288</td>\n",
              "      <td>100090.239881</td>\n",
              "    </tr>\n",
              "    <tr>\n",
              "      <th>std</th>\n",
              "      <td>96.653299</td>\n",
              "      <td>10.487806</td>\n",
              "      <td>62397.405202</td>\n",
              "      <td>57510.492818</td>\n",
              "    </tr>\n",
              "    <tr>\n",
              "      <th>min</th>\n",
              "      <td>350.000000</td>\n",
              "      <td>18.000000</td>\n",
              "      <td>0.000000</td>\n",
              "      <td>11.580000</td>\n",
              "    </tr>\n",
              "    <tr>\n",
              "      <th>25%</th>\n",
              "      <td>584.000000</td>\n",
              "      <td>32.000000</td>\n",
              "      <td>0.000000</td>\n",
              "      <td>51002.110000</td>\n",
              "    </tr>\n",
              "    <tr>\n",
              "      <th>50%</th>\n",
              "      <td>652.000000</td>\n",
              "      <td>37.000000</td>\n",
              "      <td>97198.540000</td>\n",
              "      <td>100193.915000</td>\n",
              "    </tr>\n",
              "    <tr>\n",
              "      <th>75%</th>\n",
              "      <td>718.000000</td>\n",
              "      <td>44.000000</td>\n",
              "      <td>127644.240000</td>\n",
              "      <td>149388.247500</td>\n",
              "    </tr>\n",
              "    <tr>\n",
              "      <th>max</th>\n",
              "      <td>850.000000</td>\n",
              "      <td>92.000000</td>\n",
              "      <td>250898.090000</td>\n",
              "      <td>199992.480000</td>\n",
              "    </tr>\n",
              "  </tbody>\n",
              "</table>\n",
              "</div>\n",
              "      <button class=\"colab-df-convert\" onclick=\"convertToInteractive('df-c76af523-8279-43d5-ba0b-b8bb2251fea6')\"\n",
              "              title=\"Convert this dataframe to an interactive table.\"\n",
              "              style=\"display:none;\">\n",
              "        \n",
              "  <svg xmlns=\"http://www.w3.org/2000/svg\" height=\"24px\"viewBox=\"0 0 24 24\"\n",
              "       width=\"24px\">\n",
              "    <path d=\"M0 0h24v24H0V0z\" fill=\"none\"/>\n",
              "    <path d=\"M18.56 5.44l.94 2.06.94-2.06 2.06-.94-2.06-.94-.94-2.06-.94 2.06-2.06.94zm-11 1L8.5 8.5l.94-2.06 2.06-.94-2.06-.94L8.5 2.5l-.94 2.06-2.06.94zm10 10l.94 2.06.94-2.06 2.06-.94-2.06-.94-.94-2.06-.94 2.06-2.06.94z\"/><path d=\"M17.41 7.96l-1.37-1.37c-.4-.4-.92-.59-1.43-.59-.52 0-1.04.2-1.43.59L10.3 9.45l-7.72 7.72c-.78.78-.78 2.05 0 2.83L4 21.41c.39.39.9.59 1.41.59.51 0 1.02-.2 1.41-.59l7.78-7.78 2.81-2.81c.8-.78.8-2.07 0-2.86zM5.41 20L4 18.59l7.72-7.72 1.47 1.35L5.41 20z\"/>\n",
              "  </svg>\n",
              "      </button>\n",
              "      \n",
              "  <style>\n",
              "    .colab-df-container {\n",
              "      display:flex;\n",
              "      flex-wrap:wrap;\n",
              "      gap: 12px;\n",
              "    }\n",
              "\n",
              "    .colab-df-convert {\n",
              "      background-color: #E8F0FE;\n",
              "      border: none;\n",
              "      border-radius: 50%;\n",
              "      cursor: pointer;\n",
              "      display: none;\n",
              "      fill: #1967D2;\n",
              "      height: 32px;\n",
              "      padding: 0 0 0 0;\n",
              "      width: 32px;\n",
              "    }\n",
              "\n",
              "    .colab-df-convert:hover {\n",
              "      background-color: #E2EBFA;\n",
              "      box-shadow: 0px 1px 2px rgba(60, 64, 67, 0.3), 0px 1px 3px 1px rgba(60, 64, 67, 0.15);\n",
              "      fill: #174EA6;\n",
              "    }\n",
              "\n",
              "    [theme=dark] .colab-df-convert {\n",
              "      background-color: #3B4455;\n",
              "      fill: #D2E3FC;\n",
              "    }\n",
              "\n",
              "    [theme=dark] .colab-df-convert:hover {\n",
              "      background-color: #434B5C;\n",
              "      box-shadow: 0px 1px 3px 1px rgba(0, 0, 0, 0.15);\n",
              "      filter: drop-shadow(0px 1px 2px rgba(0, 0, 0, 0.3));\n",
              "      fill: #FFFFFF;\n",
              "    }\n",
              "  </style>\n",
              "\n",
              "      <script>\n",
              "        const buttonEl =\n",
              "          document.querySelector('#df-c76af523-8279-43d5-ba0b-b8bb2251fea6 button.colab-df-convert');\n",
              "        buttonEl.style.display =\n",
              "          google.colab.kernel.accessAllowed ? 'block' : 'none';\n",
              "\n",
              "        async function convertToInteractive(key) {\n",
              "          const element = document.querySelector('#df-c76af523-8279-43d5-ba0b-b8bb2251fea6');\n",
              "          const dataTable =\n",
              "            await google.colab.kernel.invokeFunction('convertToInteractive',\n",
              "                                                     [key], {});\n",
              "          if (!dataTable) return;\n",
              "\n",
              "          const docLinkHtml = 'Like what you see? Visit the ' +\n",
              "            '<a target=\"_blank\" href=https://colab.research.google.com/notebooks/data_table.ipynb>data table notebook</a>'\n",
              "            + ' to learn more about interactive tables.';\n",
              "          element.innerHTML = '';\n",
              "          dataTable['output_type'] = 'display_data';\n",
              "          await google.colab.output.renderOutput(dataTable, element);\n",
              "          const docLink = document.createElement('div');\n",
              "          docLink.innerHTML = docLinkHtml;\n",
              "          element.appendChild(docLink);\n",
              "        }\n",
              "      </script>\n",
              "    </div>\n",
              "  </div>\n",
              "  "
            ]
          },
          "metadata": {},
          "execution_count": 42
        }
      ]
    },
    {
      "cell_type": "markdown",
      "source": [
        "# **Exploratory Data Analysis**"
      ],
      "metadata": {
        "id": "N0NfoEowWQuc"
      }
    },
    {
      "cell_type": "markdown",
      "source": [
        "**Target Distribution**"
      ],
      "metadata": {
        "id": "NyAyfKn3o-Gz"
      }
    },
    {
      "cell_type": "code",
      "source": [
        "sns.countplot(data = df, x = 'Exited')\n",
        "plt.title(\"Target Class Distribution \\n (0: did not exit, 1: exited)\")\n",
        "plt.show()\n",
        "\n",
        "num_minority_target = (df['Exited'] == 1).sum()\n",
        "print(\"Number of minority class target variables: \", num_minority_target)\n",
        "print(\"Proportion of minority class in target variable: %.2f%%\" % (num_minority_target / df.shape[0] * 100))"
      ],
      "metadata": {
        "colab": {
          "base_uri": "https://localhost:8080/",
          "height": 345
        },
        "id": "eJ2tS0NhXJX8",
        "outputId": "926c5b3f-c773-4886-e4e8-bdb761b18e23"
      },
      "execution_count": 43,
      "outputs": [
        {
          "output_type": "display_data",
          "data": {
            "text/plain": [
              "<Figure size 432x288 with 1 Axes>"
            ],
            "image/png": "[encoded data removed]"
          },
          "metadata": {
            "needs_background": "light"
          }
        },
        {
          "output_type": "stream",
          "name": "stdout",
          "text": [
            "Number of minority class target variables:  2037\n",
            "Proportion of minority class in target variable: 20.37%\n"
          ]
        }
      ]
    },
    {
      "cell_type": "markdown",
      "source": [
        "*Notes:*\n",
        "\n",
        "* The target variable is moderately imbalanced. \n",
        "* The number of rows of the minority class is rather large."
      ],
      "metadata": {
        "id": "uHXwpu2IpV5a"
      }
    },
    {
      "cell_type": "markdown",
      "source": [
        "*Insights:* \n",
        "* Leaving the dataset as it is will result in overfitting due to the imbalance of the target data. In order to solve this issue it's reasonable to apply undersampling since the number of rows in the resulting dataset (~4000) will still be acceptable."
      ],
      "metadata": {
        "id": "gUruEpY27M-4"
      }
    },
    {
      "cell_type": "markdown",
      "source": [
        "I will now create an undersampled dataframe for the purpose of data analysis only."
      ],
      "metadata": {
        "id": "e9-esWfjjjXu"
      }
    },
    {
      "cell_type": "code",
      "source": [
        "# divide the datasets based on target variable\n",
        "df_exited = df[df['Exited'] == 1]\n",
        "df_not_exited = df[df['Exited'] == 0]\n",
        "\n",
        "# rebalance based on dimension of minority class\n",
        "num_exited = len(df_exited)\n",
        "df_analysis = pd.concat([df_exited, df_not_exited[:num_exited]])\n",
        "\n",
        "# shuffle the dataset\n",
        "df_analysis = df_analysis.sample(frac = 1, random_state = 0).reset_index(drop = True)"
      ],
      "metadata": {
        "id": "4-5I3HmiDNgs"
      },
      "execution_count": 44,
      "outputs": []
    },
    {
      "cell_type": "code",
      "source": [
        "sns.countplot(data = df_analysis, x = 'Exited')\n",
        "plt.title(\"Target Class Distribution \\n (0: did not exit, 1: exited)\")\n",
        "plt.show()\n",
        "\n",
        "num_minority_target = (df_analysis['Exited'] == 1).sum()\n",
        "print(\"Number of minority class target variables: \", num_minority_target)\n",
        "print(\"Proportion of minority class in target variable: %.2f%%\" % (num_minority_target / df.shape[0] * 100))"
      ],
      "metadata": {
        "colab": {
          "base_uri": "https://localhost:8080/",
          "height": 345
        },
        "id": "GcTcqSLxEd7v",
        "outputId": "8bf488cc-57e2-4212-d9b0-515cf6da1963"
      },
      "execution_count": 45,
      "outputs": [
        {
          "output_type": "display_data",
          "data": {
            "text/plain": [
              "<Figure size 432x288 with 1 Axes>"
            ],
            "image/png": "[encoded data removed]"
          },
          "metadata": {
            "needs_background": "light"
          }
        },
        {
          "output_type": "stream",
          "name": "stdout",
          "text": [
            "Number of minority class target variables:  2037\n",
            "Proportion of minority class in target variable: 20.37%\n"
          ]
        }
      ]
    },
    {
      "cell_type": "markdown",
      "source": [
        "*Notes:*\n",
        "\n",
        "* The target variable is now balaced."
      ],
      "metadata": {
        "id": "AojeqzLYEgxm"
      }
    },
    {
      "cell_type": "markdown",
      "source": [
        "While analyzing remaining features we have to keep in mind that simpler and fewer features make better models capable or generalizing better."
      ],
      "metadata": {
        "id": "8Sg8Ge_qdAJF"
      }
    },
    {
      "cell_type": "markdown",
      "source": [
        "**Numerical Features**"
      ],
      "metadata": {
        "id": "k_-bg_iaV9Md"
      }
    },
    {
      "cell_type": "code",
      "source": [
        "plt.figure(figsize = (10, 5))\n",
        "\n",
        "sns.histplot(data = df_analysis, x = 'CreditScore', hue = 'Exited', kde = True, binwidth = 10)\n",
        "\n",
        "plt.title('Credit Score Distribution')"
      ],
      "metadata": {
        "colab": {
          "base_uri": "https://localhost:8080/",
          "height": 368
        },
        "id": "4Tm_zPxRVT7k",
        "outputId": "ef6c5c0a-ed5b-433a-a849-eb59a2dd770d"
      },
      "execution_count": 46,
      "outputs": [
        {
          "output_type": "execute_result",
          "data": {
            "text/plain": [
              "Text(0.5, 1.0, 'Credit Score Distribution')"
            ]
          },
          "metadata": {},
          "execution_count": 46
        },
        {
          "output_type": "display_data",
          "data": {
            "text/plain": [
              "<Figure size 720x360 with 1 Axes>"
            ],
            "image/png": "[encoded data removed]"
          },
          "metadata": {
            "needs_background": "light"
          }
        }
      ]
    },
    {
      "cell_type": "markdown",
      "source": [
        "*Notes:*\n",
        "\n",
        "* The distribution of credit scores is not skewed.\n",
        "\n",
        "*Insights:*\n",
        "* There is no need to apply a log transformation to the feature."
      ],
      "metadata": {
        "id": "UORBACxXXON5"
      }
    },
    {
      "cell_type": "code",
      "source": [
        "plt.figure(figsize = (10, 5))\n",
        "\n",
        "sns.histplot(data = df_analysis, x = 'Age', hue = 'Exited', binwidth = 1)\n",
        "\n",
        "plt.title('Age Distribution')"
      ],
      "metadata": {
        "colab": {
          "base_uri": "https://localhost:8080/",
          "height": 368
        },
        "id": "GM0PEH0kYGP_",
        "outputId": "7869da22-e264-438a-c06e-17ca3206fc77"
      },
      "execution_count": 47,
      "outputs": [
        {
          "output_type": "execute_result",
          "data": {
            "text/plain": [
              "Text(0.5, 1.0, 'Age Distribution')"
            ]
          },
          "metadata": {},
          "execution_count": 47
        },
        {
          "output_type": "display_data",
          "data": {
            "text/plain": [
              "<Figure size 720x360 with 1 Axes>"
            ],
            "image/png": "[encoded data removed]"
          },
          "metadata": {
            "needs_background": "light"
          }
        }
      ]
    },
    {
      "cell_type": "markdown",
      "source": [
        "*Notes:*\n",
        "\n",
        "* Customers aged 40 or more are much more likely to exit.\n",
        "* Customers aged less than 40 are much more likely not to exit.\n",
        "* The distribution of ages is skewed.\n",
        "\n",
        "*Insights:*\n",
        "\n",
        "* Age is an important feature in predicting exit.\n",
        "* A log transformation needs to be applied to the Age feature."
      ],
      "metadata": {
        "id": "LCuka05IYSwt"
      }
    },
    {
      "cell_type": "code",
      "source": [
        "plt.figure(figsize = (10, 5))\n",
        "\n",
        "sns.histplot(data = df_analysis, x = 'Balance', hue = 'Exited', bins = 50)\n",
        "\n",
        "plt.title('Balance Distribution')"
      ],
      "metadata": {
        "colab": {
          "base_uri": "https://localhost:8080/",
          "height": 368
        },
        "id": "8vDvx7gNaqBS",
        "outputId": "a16880f8-56cc-4b30-fd6a-f69d0a56c9f3"
      },
      "execution_count": 48,
      "outputs": [
        {
          "output_type": "execute_result",
          "data": {
            "text/plain": [
              "Text(0.5, 1.0, 'Balance Distribution')"
            ]
          },
          "metadata": {},
          "execution_count": 48
        },
        {
          "output_type": "display_data",
          "data": {
            "text/plain": [
              "<Figure size 720x360 with 1 Axes>"
            ],
            "image/png": "[encoded data removed]"
          },
          "metadata": {
            "needs_background": "light"
          }
        }
      ]
    },
    {
      "cell_type": "markdown",
      "source": [
        "*Notes:*\n",
        "\n",
        "* Most people have no balance.\n",
        "* Customers with no balance are less likely to exit.\n",
        "* The distribution of balances is skewed.\n",
        "\n",
        "*Insights:*\n",
        "* A new feature HasNoBalance can be created to keep track of whether a customer has no balance or not.\n",
        "* A log transformation needs to be applied to the Balance feature."
      ],
      "metadata": {
        "id": "Te9fK5bKcKx5"
      }
    },
    {
      "cell_type": "code",
      "source": [
        "plt.figure(figsize = (10, 5))\n",
        "\n",
        "sns.histplot(data = df_analysis, x = 'EstimatedSalary', hue = 'Exited', kde = True)\n",
        "\n",
        "plt.title('Estimated Salary Distribution')"
      ],
      "metadata": {
        "colab": {
          "base_uri": "https://localhost:8080/",
          "height": 368
        },
        "id": "VGt7TEuWdVzH",
        "outputId": "724485eb-2227-45cc-bce4-6600ce16d328"
      },
      "execution_count": 49,
      "outputs": [
        {
          "output_type": "execute_result",
          "data": {
            "text/plain": [
              "Text(0.5, 1.0, 'Estimated Salary Distribution')"
            ]
          },
          "metadata": {},
          "execution_count": 49
        },
        {
          "output_type": "display_data",
          "data": {
            "text/plain": [
              "<Figure size 720x360 with 1 Axes>"
            ],
            "image/png": "[encoded data removed]"
          },
          "metadata": {
            "needs_background": "light"
          }
        }
      ]
    },
    {
      "cell_type": "markdown",
      "source": [
        "*Notes:*\n",
        "\n",
        "* The esitmate salary does not seem to be a useful parameter in predicting exit.\n",
        "\n",
        "*Insights:*\n",
        "* EsimatedSalary can be dropped."
      ],
      "metadata": {
        "id": "iiUOFe8wdsV8"
      }
    },
    {
      "cell_type": "code",
      "source": [
        "plt.figure(figsize=(10, 5))\n",
        "\n",
        "sns.heatmap(df_analysis[[f'{feature}' for feature in numerical + ['Exited']]].corr(), annot=True)\n",
        "\n",
        "plt.title(\"Correlation Matrix\")"
      ],
      "metadata": {
        "colab": {
          "base_uri": "https://localhost:8080/",
          "height": 354
        },
        "id": "UEj8m1Ns7OOU",
        "outputId": "8cc0d1dd-8dac-4029-ba05-edc9d23367f5"
      },
      "execution_count": 50,
      "outputs": [
        {
          "output_type": "execute_result",
          "data": {
            "text/plain": [
              "Text(0.5, 1.0, 'Correlation Matrix')"
            ]
          },
          "metadata": {},
          "execution_count": 50
        },
        {
          "output_type": "display_data",
          "data": {
            "text/plain": [
              "<Figure size 720x360 with 2 Axes>"
            ],
            "image/png": "[encoded data removed]"
          },
          "metadata": {
            "needs_background": "light"
          }
        }
      ]
    },
    {
      "cell_type": "markdown",
      "source": [
        "*Notes:*\n",
        "\n",
        "* Age is confirmed to be the most important numerical feature in predicting exit.\n",
        "* EstimatedSalary is confirmed to be not relevant, being the least relevant in predicting exit."
      ],
      "metadata": {
        "id": "zbcShDKo9sgN"
      }
    },
    {
      "cell_type": "markdown",
      "source": [
        "**Categorical Features**"
      ],
      "metadata": {
        "id": "c4aNSzHejeOG"
      }
    },
    {
      "cell_type": "code",
      "source": [
        "fig = plt.figure(figsize = (10, 30))\n",
        "\n",
        "for i, feat in enumerate(categorical):\n",
        "  ax = fig.add_subplot(6, 1, i + 1)\n",
        "  sns.countplot(data = df_analysis, x = feat, hue = 'Exited')"
      ],
      "metadata": {
        "colab": {
          "base_uri": "https://localhost:8080/",
          "height": 1000
        },
        "id": "nUaalcxxjjIh",
        "outputId": "2ab6dc61-2bae-4966-99f4-895faef60cbd"
      },
      "execution_count": 51,
      "outputs": [
        {
          "output_type": "display_data",
          "data": {
            "text/plain": [
              "<Figure size 720x2160 with 6 Axes>"
            ],
            "image/png": "[encoded data removed]"
          },
          "metadata": {
            "needs_background": "light"
          }
        }
      ]
    },
    {
      "cell_type": "markdown",
      "source": [
        "*Notes:*\n",
        "\n",
        "* HasCrCard does not seem to be a useful feature since its target split is more or less balanced.\n",
        "\n",
        "*Insights:*\n",
        "* HasCrCard can be dropped."
      ],
      "metadata": {
        "id": "ENkWFOu1lDSb"
      }
    },
    {
      "cell_type": "markdown",
      "source": [
        "**Qualitative Features**"
      ],
      "metadata": {
        "id": "kqcIr0XwlZ-L"
      }
    },
    {
      "cell_type": "markdown",
      "source": [
        "*Notes:*\n",
        "\n",
        "* The available qualitative features are not relevant in solving the problem.\n",
        "\n",
        "*Insights:*\n",
        "* Qualitative features can be dropped."
      ],
      "metadata": {
        "id": "uy6UOrWJlc4_"
      }
    },
    {
      "cell_type": "markdown",
      "source": [
        "# **Feature Engineering**"
      ],
      "metadata": {
        "id": "uxGyii3el6n3"
      }
    },
    {
      "cell_type": "markdown",
      "source": [
        "Based on the considerations made in the Exploratory Data Analysis section I will now introduce a new feature into the original dataset."
      ],
      "metadata": {
        "id": "sNY6eVJJ_F4i"
      }
    },
    {
      "cell_type": "code",
      "source": [
        "df['HasNoBalance'] = df['Balance'] == 0"
      ],
      "metadata": {
        "id": "gmJnLPuYomPp"
      },
      "execution_count": 52,
      "outputs": []
    },
    {
      "cell_type": "markdown",
      "source": [
        "Below is a visualization of the new categorical feature."
      ],
      "metadata": {
        "id": "FfXlfqZIPzo2"
      }
    },
    {
      "cell_type": "code",
      "source": [
        "df_analysis['HasNoBalance'] = df_analysis['Balance'] == 0\n",
        "sns.countplot(data = df_analysis, x = 'HasNoBalance', hue = 'Exited')"
      ],
      "metadata": {
        "id": "Q3bwGbUPortb",
        "colab": {
          "base_uri": "https://localhost:8080/",
          "height": 299
        },
        "outputId": "86370e35-2de1-457d-f265-3ee9b08899af"
      },
      "execution_count": 53,
      "outputs": [
        {
          "output_type": "execute_result",
          "data": {
            "text/plain": [
              "<matplotlib.axes._subplots.AxesSubplot at 0x7fccbced6b90>"
            ]
          },
          "metadata": {},
          "execution_count": 53
        },
        {
          "output_type": "display_data",
          "data": {
            "text/plain": [
              "<Figure size 432x288 with 1 Axes>"
            ],
            "image/png": "[encoded data removed]"
          },
          "metadata": {
            "needs_background": "light"
          }
        }
      ]
    },
    {
      "cell_type": "markdown",
      "source": [
        "# **Preprocessing**"
      ],
      "metadata": {
        "id": "_QzL0eXZG1Ii"
      }
    },
    {
      "cell_type": "markdown",
      "source": [
        "**Drop features**"
      ],
      "metadata": {
        "id": "iJJGxF6tRV8K"
      }
    },
    {
      "cell_type": "code",
      "source": [
        "features_to_drop = ['RowNumber', 'CustomerId', 'Surname', 'HasCrCard', 'EstimatedSalary']\n",
        "df = df.drop(features_to_drop, axis = 1)"
      ],
      "metadata": {
        "id": "sOryt2C4Rf3Y"
      },
      "execution_count": 54,
      "outputs": []
    },
    {
      "cell_type": "markdown",
      "source": [
        "**Log transformation**"
      ],
      "metadata": {
        "id": "TZoAREDGR4Qo"
      }
    },
    {
      "cell_type": "code",
      "source": [
        "df['Balance'] = np.log1p(df['Balance'])\n",
        "df['Age'] = np.log1p(df['Age'])"
      ],
      "metadata": {
        "id": "MCkAHgtup7D_"
      },
      "execution_count": 55,
      "outputs": []
    },
    {
      "cell_type": "markdown",
      "source": [
        "Below is a visualization of the transformed features."
      ],
      "metadata": {
        "id": "lEfqB_RfP5_h"
      }
    },
    {
      "cell_type": "code",
      "source": [
        "df_analysis['Balance'] = np.log1p(df_analysis['Balance'])\n",
        "df_analysis['Age'] = np.log1p(df_analysis['Age'])\n",
        "plt.figure(figsize = (10, 5))\n",
        "sns.histplot(data = df_analysis, x = 'Balance', hue = 'Exited', bins = 50)\n",
        "plt.title('Balance Distribution (transformed)')\n",
        "plt.show()\n",
        "\n",
        "plt.figure(figsize = (10, 5))\n",
        "sns.histplot(data = df_analysis, x = 'Age', hue = 'Exited', bins = 50)\n",
        "plt.title('Age Distribution (transformed)')\n",
        "plt.show()"
      ],
      "metadata": {
        "id": "YMKADNQOqLVL",
        "colab": {
          "base_uri": "https://localhost:8080/",
          "height": 683
        },
        "outputId": "24b523f2-2d7a-45cb-ae5d-d81d71b5ae96"
      },
      "execution_count": 56,
      "outputs": [
        {
          "output_type": "display_data",
          "data": {
            "text/plain": [
              "<Figure size 720x360 with 1 Axes>"
            ],
            "image/png": "[encoded data removed]"
          },
          "metadata": {
            "needs_background": "light"
          }
        },
        {
          "output_type": "display_data",
          "data": {
            "text/plain": [
              "<Figure size 720x360 with 1 Axes>"
            ],
            "image/png": "[encoded data removed]"
          },
          "metadata": {
            "needs_background": "light"
          }
        }
      ]
    },
    {
      "cell_type": "code",
      "source": [
        "y = df['Exited'].values\n",
        "df = df.drop('Exited', axis = 1)"
      ],
      "metadata": {
        "id": "Lmj4AcHPnnbU"
      },
      "execution_count": 57,
      "outputs": []
    },
    {
      "cell_type": "markdown",
      "source": [
        "**Encoding and Scaling**"
      ],
      "metadata": {
        "id": "K6Yed6fX1CMK"
      }
    },
    {
      "cell_type": "code",
      "source": [
        "numerical_features = ['Balance', 'CreditScore', 'Age']\n",
        "categorical_features = ['Geography', 'Gender', 'Tenure', 'NumOfProducts', \n",
        "                        'IsActiveMember', 'HasNoBalance']"
      ],
      "metadata": {
        "id": "Z6nPQ6s4q9Mu"
      },
      "execution_count": 58,
      "outputs": []
    },
    {
      "cell_type": "code",
      "source": [
        "numerical_transformer = Pipeline(steps = [('scaler', StandardScaler())])\n",
        "\n",
        "categorical_transformer = Pipeline(steps = [('onehot', OneHotEncoder(drop = 'if_binary', handle_unknown = 'ignore', sparse = False))])\n",
        "\n",
        "ct = ColumnTransformer(\n",
        "    transformers=[\n",
        "        ('num', numerical_transformer, numerical_features),\n",
        "        ('cat', categorical_transformer, categorical_features)],\n",
        "        remainder='passthrough')\n",
        "\n",
        "X = ct.fit_transform(df)\n",
        "\n",
        "print(\"Total number of features: \", X.shape[1])"
      ],
      "metadata": {
        "colab": {
          "base_uri": "https://localhost:8080/"
        },
        "id": "_MVrFRvXrYZt",
        "outputId": "02e10fb8-215a-4e79-f536-5f6cf72d5cc4"
      },
      "execution_count": 59,
      "outputs": [
        {
          "output_type": "stream",
          "name": "stdout",
          "text": [
            "Total number of features:  24\n"
          ]
        }
      ]
    },
    {
      "cell_type": "markdown",
      "source": [
        "**Split into training and validation datasets**"
      ],
      "metadata": {
        "id": "OIZIEHj00tQ0"
      }
    },
    {
      "cell_type": "code",
      "source": [
        "X_train, X_val, y_train, y_val = train_test_split(X, y, stratify = y, train_size = 0.8, random_state = 0)\n",
        "rus = RandomUnderSampler(random_state = 0)\n",
        "X_train, y_train = rus.fit_resample(X_train, y_train)"
      ],
      "metadata": {
        "id": "XhlQ5Gp9JlTy"
      },
      "execution_count": 60,
      "outputs": []
    },
    {
      "cell_type": "markdown",
      "source": [
        "# **Model Selection**"
      ],
      "metadata": {
        "id": "s-0yqFtA-vw8"
      }
    },
    {
      "cell_type": "markdown",
      "source": [
        "**Define classifiers**"
      ],
      "metadata": {
        "id": "SZgli9TD1Pu0"
      }
    },
    {
      "cell_type": "markdown",
      "source": [
        "Below are the classifiers that will be trained to solve the problem with their respective grids for parameter tuning."
      ],
      "metadata": {
        "id": "dTVHnwrBVjjs"
      }
    },
    {
      "cell_type": "code",
      "source": [
        "classifiers = {\n",
        "    \"LogisticRegression\" : LogisticRegression(random_state = 0),\n",
        "    \"DecisionTree\": DecisionTreeClassifier(random_state = 0),\n",
        "    \"RandomForest\" : RandomForestClassifier(random_state = 0),\n",
        "    \"XGBoost\" : XGBClassifier(random_state = 0, use_label_encoder = False, eval_metric = 'logloss'),\n",
        "}\n",
        "\n",
        "LR_grid = {'penalty': ['l1','l2'],\n",
        "           'C': [0.25, 0.5, 0.75, 1, 1.25, 1.5],\n",
        "           'max_iter': [50, 100, 150]}\n",
        "\n",
        "DT_grid = {'max_depth': [4, 8, 12]}\n",
        "\n",
        "RF_grid = {'n_estimators': [50, 100, 150, 200, 250, 300],\n",
        "            'max_depth': [4, 6, 8, 10, 12]}\n",
        "\n",
        "boosted_grid = {'n_estimators': [50, 100, 150, 200],\n",
        "                'max_depth': [4, 8, 12],\n",
        "                'learning_rate': [0.05, 0.1, 0.15]}\n",
        "\n",
        "grids = {\n",
        "    \"LogisticRegression\" : LR_grid,\n",
        "    \"DecisionTree\": DT_grid,\n",
        "    \"RandomForest\" : RF_grid,\n",
        "    \"XGBoost\" : boosted_grid,\n",
        "}"
      ],
      "metadata": {
        "id": "qg7SvNx2uBGX"
      },
      "execution_count": 61,
      "outputs": []
    },
    {
      "cell_type": "markdown",
      "source": [
        "**Train and evauate**"
      ],
      "metadata": {
        "id": "vcviVhe71ZDc"
      }
    },
    {
      "cell_type": "markdown",
      "source": [
        "Below is the code for training and evaluating the classifiers."
      ],
      "metadata": {
        "id": "oQW5n_sFV2TX"
      }
    },
    {
      "cell_type": "code",
      "source": [
        "best_params = {}\n",
        "scores = {}\n",
        "times = {}\n",
        "for i, (name, classifier) in enumerate(classifiers.items()):\n",
        "  start_time = time.time()\n",
        "  gs = GridSearchCV(estimator = classifier, param_grid = grids[name], n_jobs = -1, cv = None)\n",
        "  gs.fit(X_train, y_train)\n",
        "  scores[name] = gs.score(X_val, y_val)\n",
        "  stop_time = time.time()\n",
        "  times[name] = stop_time - start_time\n",
        "  best_params[name] = gs.best_params_\n",
        "  print(f\"Model: {name}, Training Time: {round(times[name], 2)}\")"
      ],
      "metadata": {
        "colab": {
          "base_uri": "https://localhost:8080/"
        },
        "id": "CpG7CbpquZEi",
        "outputId": "ba1fd3f0-88d8-4f2e-f526-6d88ea27bfb3"
      },
      "execution_count": 62,
      "outputs": [
        {
          "output_type": "stream",
          "name": "stdout",
          "text": [
            "Model: LogisticRegression, Training Time: 2.82\n",
            "Model: DecisionTree, Training Time: 0.19\n",
            "Model: RandomForest, Training Time: 53.34\n",
            "Model: XGBoost, Training Time: 103.44\n"
          ]
        }
      ]
    },
    {
      "cell_type": "code",
      "source": [
        "scores"
      ],
      "metadata": {
        "colab": {
          "base_uri": "https://localhost:8080/"
        },
        "id": "NkWXxq2Cvrx2",
        "outputId": "60b40428-78e3-4fc8-c66c-cea00f8a6570"
      },
      "execution_count": 63,
      "outputs": [
        {
          "output_type": "execute_result",
          "data": {
            "text/plain": [
              "{'LogisticRegression': 0.76,\n",
              " 'DecisionTree': 0.765,\n",
              " 'RandomForest': 0.773,\n",
              " 'XGBoost': 0.792}"
            ]
          },
          "metadata": {},
          "execution_count": 63
        }
      ]
    },
    {
      "cell_type": "markdown",
      "source": [
        "The highest scoring classifiers are selected in order to make a final cross-validation to select the best model."
      ],
      "metadata": {
        "id": "BRgpLGXgWNLj"
      }
    },
    {
      "cell_type": "code",
      "source": [
        "best_classifiers = {\n",
        "    'RandomForest': RandomForestClassifier(**best_params['RandomForest'], random_state = 0),\n",
        "    'XGBoost': XGBClassifier(**best_params['XGBoost'], random_state = 0)\n",
        "}"
      ],
      "metadata": {
        "id": "XO59lP8p15tY"
      },
      "execution_count": 64,
      "outputs": []
    },
    {
      "cell_type": "code",
      "source": [
        "for name, classifier in best_classifiers.items():\n",
        "  model = make_pipeline (\n",
        "      RandomUnderSampler(random_state = 0),\n",
        "      classifier\n",
        "  )\n",
        "\n",
        "  cv_results = cross_validate (\n",
        "      model, X, y, scoring = \"balanced_accuracy\",\n",
        "      return_train_score = True, return_estimator = True,\n",
        "      n_jobs = -1\n",
        "  )\n",
        "\n",
        "  print(\n",
        "    f\"Model {name}: \"\n",
        "    f\"balanced accuracy mean +/- std. dev.: \"\n",
        "    f\"{cv_results['test_score'].mean():.3f} +/- \"\n",
        "    f\"{cv_results['test_score'].std():.3f}\"\n",
        "  )"
      ],
      "metadata": {
        "colab": {
          "base_uri": "https://localhost:8080/"
        },
        "id": "jCYwn-DH2mfA",
        "outputId": "89960e65-3a51-4f1a-851a-f8d965356b6d"
      },
      "execution_count": 65,
      "outputs": [
        {
          "output_type": "stream",
          "name": "stdout",
          "text": [
            "Model RandomForest: balanced accuracy mean +/- std. dev.: 0.771 +/- 0.002\n",
            "Model XGBoost: balanced accuracy mean +/- std. dev.: 0.777 +/- 0.004\n"
          ]
        }
      ]
    },
    {
      "cell_type": "markdown",
      "source": [
        "The XGBoost model with the following parameters is the best classifier for solving this problem."
      ],
      "metadata": {
        "id": "owxHoytuQTMa"
      }
    },
    {
      "cell_type": "code",
      "source": [
        "print(\"Params of the XGBoost model: \", best_params['XGBoost'])"
      ],
      "metadata": {
        "colab": {
          "base_uri": "https://localhost:8080/"
        },
        "id": "BHo0wBaMYsPm",
        "outputId": "983c8b2b-1c8f-4157-cd0f-762dd6000e3f"
      },
      "execution_count": 66,
      "outputs": [
        {
          "output_type": "stream",
          "name": "stdout",
          "text": [
            "Params of the XGBoost model:  {'learning_rate': 0.15, 'max_depth': 4, 'n_estimators': 50}\n"
          ]
        }
      ]
    }
  ]
}